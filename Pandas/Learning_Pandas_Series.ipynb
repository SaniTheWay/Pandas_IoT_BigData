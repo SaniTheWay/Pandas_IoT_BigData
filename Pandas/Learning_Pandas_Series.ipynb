{
  "nbformat": 4,
  "nbformat_minor": 0,
  "metadata": {
    "colab": {
      "name": "Learning Pandas Series.ipynb",
      "private_outputs": true,
      "provenance": [],
      "authorship_tag": "ABX9TyOOdUnNtaq0zYSe0VmGAF+f"
    },
    "kernelspec": {
      "name": "python3",
      "display_name": "Python 3"
    }
  },
  "cells": [
    {
      "cell_type": "code",
      "metadata": {
        "id": "D62UlfFvLUkg"
      },
      "source": [
        "import numpy as np\r\n",
        "import pandas as pd"
      ],
      "execution_count": null,
      "outputs": []
    },
    {
      "cell_type": "markdown",
      "metadata": {
        "id": "b2pR-w-RLjlq"
      },
      "source": [
        "###**Pandas Series**\r\n",
        "Series is a data structure in Py. "
      ]
    },
    {
      "cell_type": "markdown",
      "metadata": {
        "id": "JWFN515QL-HI"
      },
      "source": [
        "`Creating Pandas Series:`"
      ]
    },
    {
      "cell_type": "code",
      "metadata": {
        "id": "tVoXYy6RLhuI"
      },
      "source": [
        "labels = ['a','b','c']\r\n",
        "my_list = [5,10,12]\r\n",
        "arr = np.array([5,10,12])\r\n",
        "d = {'a':5, 'b':10, 'c':12}"
      ],
      "execution_count": null,
      "outputs": []
    },
    {
      "cell_type": "code",
      "metadata": {
        "id": "wY5ZDu9gMGJ1"
      },
      "source": [
        "'''Passing into pd.Series() method for converting into series data structure'''\r\n",
        "series = pd.Series(my_list)\r\n",
        "print(series)\r\n",
        "type(pd.Series(my_list))\r\n",
        "# \"\"\" second column for labeling the 1st column i.e., 'my_list' "
      ],
      "execution_count": null,
      "outputs": []
    },
    {
      "cell_type": "markdown",
      "metadata": {
        "id": "n2bLnfYvPzkr"
      },
      "source": [
        ""
      ]
    },
    {
      "cell_type": "markdown",
      "metadata": {
        "id": "4Xi_AO9DP0TM"
      },
      "source": [
        "`adding labels`"
      ]
    },
    {
      "cell_type": "code",
      "metadata": {
        "id": "Rruy8UpqPDnG"
      },
      "source": [
        "pd.Series(my_list, index= labels)\r\n",
        "#lables that we created earlier"
      ],
      "execution_count": null,
      "outputs": []
    },
    {
      "cell_type": "markdown",
      "metadata": {
        "id": "8N-BC4giQiSL"
      },
      "source": [
        "`accessing through index/labels`"
      ]
    },
    {
      "cell_type": "code",
      "metadata": {
        "id": "LtCQnyWjQ5ps"
      },
      "source": [
        "series = pd.Series(my_list, index = labels)\r\n",
        "S_index = series[0] #RETURN 5\r\n",
        "S_labels = series['a'] # also RETURN 5\r\n",
        "print(\"Index = {}, Label = {}\".format(S_index,S_labels))"
      ],
      "execution_count": null,
      "outputs": []
    },
    {
      "cell_type": "markdown",
      "metadata": {
        "id": "V1QapEtVSp2l"
      },
      "source": [
        "We can also directly create a Pandas Series by putting **dictionary** in .Series() method for labeling."
      ]
    },
    {
      "cell_type": "code",
      "metadata": {
        "id": "IxBdIemuRdpn"
      },
      "source": [
        "pd.Series(d)"
      ],
      "execution_count": null,
      "outputs": []
    },
    {
      "cell_type": "markdown",
      "metadata": {
        "id": "kVQUkBuHTyH2"
      },
      "source": [
        "###T**he Main Advantage of Pandas Series Over NumPy Arrays**\r\n",
        "NumPy array elements must be all string, or all integers, or all booleans - you get the point.\r\n",
        "\r\n",
        "\r\n",
        "---\r\n",
        "\r\n",
        "\r\n",
        "Pandas Series do not suffer from this limitation. In fact, pandas Series are highly flexible.\r\n",
        "\r\n"
      ]
    },
    {
      "cell_type": "code",
      "metadata": {
        "id": "CRXJzj6rTrdq"
      },
      "source": [
        "pd.Series([sum, print, len])\r\n"
      ],
      "execution_count": null,
      "outputs": []
    },
    {
      "cell_type": "markdown",
      "metadata": {
        "id": "aW6vNz07W148"
      },
      "source": [
        "###**Pandas DataFrame**\r\n",
        "Another Data Structure of Pd in Py for 2D Arrays.\r\n",
        "\r\n",
        "more than one series in a sheet is Dataframe."
      ]
    },
    {
      "cell_type": "markdown",
      "metadata": {
        "id": "0YrMtNwmXQlJ"
      },
      "source": [
        "`\r\n",
        "It provide labels to both: rows and columns.\r\n",
        "`"
      ]
    },
    {
      "cell_type": "code",
      "metadata": {
        "id": "ggeHNm8dXN6g"
      },
      "source": [
        "data = [\r\n",
        "        [\"Sanidhya\",\"*#@4?\",\"B.Tech\",\"CSE\",\"2019/23\"],\r\n",
        "        [\"Rishabh\",3,\"BBA\",\"LLB\",\"2019/24\"],\r\n",
        "        [\"Ayush\",4,5,\"CSE\",7]\r\n",
        "       ]\r\n",
        "'''data that has to be put into the Matrix/DataFrame.'''\r\n",
        "d_frame_basic = pd.DataFrame(data)\r\n",
        "d_frame_basic"
      ],
      "execution_count": null,
      "outputs": []
    },
    {
      "cell_type": "markdown",
      "metadata": {
        "id": "ZTFWG0EtVbvd"
      },
      "source": [
        "###Indexing and Labeling The DataFrame"
      ]
    },
    {
      "cell_type": "code",
      "metadata": {
        "id": "wxLDXcSCVJmV"
      },
      "source": [
        "rows_index = ['S1','S2', 'S3']\n",
        "cols_index = ['Name', 'E.No.', 'Course', 'Branch', 'Batch']\n",
        "\n",
        "d_frame = pd.DataFrame(data, index = rows_index, columns= cols_index)\n",
        "# or just-> d_frame\"= pd.DataFrame(data, rows_index, cols_index)\n",
        "\n",
        "d_frame"
      ],
      "execution_count": null,
      "outputs": []
    },
    {
      "cell_type": "markdown",
      "metadata": {
        "id": "Tr526tNMrxOk"
      },
      "source": [
        "####**Indexing and Assignment in Pandas DataFrames**"
      ]
    },
    {
      "cell_type": "code",
      "metadata": {
        "id": "KFKBCXQpsATY"
      },
      "source": [
        "name = d_frame['Name']\r\n",
        "'''Basically It works like a LIST'''\r\n",
        "name_R = d_frame['Name']['S3']\r\n",
        "print(name,\"\\n--**- S3-\",name_R)"
      ],
      "execution_count": null,
      "outputs": []
    },
    {
      "cell_type": "markdown",
      "metadata": {
        "id": "QebPGnBmutEb"
      },
      "source": [
        "```\r\n",
        "-> Select multiple column from DF😏\r\n",
        "```\r\n",
        "\r\n"
      ]
    },
    {
      "cell_type": "code",
      "metadata": {
        "id": "dRn4atEds-3S"
      },
      "source": [
        "multi_cols = d_frame[['Name', 'Branch']]\r\n",
        "multi_cols"
      ],
      "execution_count": null,
      "outputs": []
    },
    {
      "cell_type": "markdown",
      "metadata": {
        "id": "yCyT5f42v2aS"
      },
      "source": [
        "**CREATE or DEL columns in dataframe**"
      ]
    },
    {
      "cell_type": "code",
      "metadata": {
        "id": "T-DVyWN5v1Sy"
      },
      "source": [
        "'''Here we create a New Column'''\r\n",
        "\r\n",
        "d_frame['Course(Branch)'] = d_frame['Course']\r\n",
        "d_frame"
      ],
      "execution_count": null,
      "outputs": []
    },
    {
      "cell_type": "markdown",
      "metadata": {
        "id": "gbKgwWdVRkxi"
      },
      "source": [
        "To access a specific row in a DataFrame :\n",
        "use '.loc[]' attribute"
      ]
    },
    {
      "cell_type": "code",
      "metadata": {
        "id": "3EK7nkaIWC6A"
      },
      "source": [
        "d_frame_basic.loc[1] #accessing '1' indexed row"
      ],
      "execution_count": null,
      "outputs": []
    },
    {
      "cell_type": "code",
      "metadata": {
        "id": "da4BA66BRj3j"
      },
      "source": [
        "row_Series_1 = d_frame.loc['S2'] #This returns a pandas Series\n",
        "row_df_1 = d_frame.loc[['S2']] #This returns a pandas Dataframe\n",
        "print(\"row_series:\\n\",row_Series_1)\n",
        "print(\"\\nrow_df:\\n\")\n",
        "row_df_1"
      ],
      "execution_count": null,
      "outputs": []
    },
    {
      "cell_type": "code",
      "metadata": {
        "id": "m6PATGt7TmaS"
      },
      "source": [
        "d_frame.loc[['S2','S3']] #this returns 2 rows (i.e., a DataFrame)"
      ],
      "execution_count": null,
      "outputs": []
    },
    {
      "cell_type": "markdown",
      "metadata": {
        "id": "orRodGP6WYwD"
      },
      "source": [
        "###**Read CSV file**\n",
        "csv stands for *comma separated values*"
      ]
    },
    {
      "cell_type": "code",
      "metadata": {
        "id": "25K9H_iDUdo5"
      },
      "source": [
        "'''uploading csv file in colab'''\n",
        "from google.colab import files\n",
        "upload = files.upload()"
      ],
      "execution_count": null,
      "outputs": []
    },
    {
      "cell_type": "markdown",
      "metadata": {
        "id": "k0Q0GKxEX_01"
      },
      "source": [
        "###loading csv into a dataframe"
      ]
    },
    {
      "cell_type": "code",
      "metadata": {
        "id": "9Ph7dIYRXyvp"
      },
      "source": [
        "df = pd.read_csv('data.csv') #here file name is data.csv\n",
        "df"
      ],
      "execution_count": null,
      "outputs": []
    },
    {
      "cell_type": "code",
      "metadata": {
        "id": "IRK6IHu8YuCd"
      },
      "source": [
        "print(df.to_string()) #convert data into a string to print entire dataframe"
      ],
      "execution_count": null,
      "outputs": []
    },
    {
      "cell_type": "markdown",
      "metadata": {
        "id": "ihFy4HkAZ_X0"
      },
      "source": [
        "To get the quick over view of the dataframe, use head() method\n",
        "\n",
        "It returns the headers and a specified number of rows, starting from the top."
      ]
    },
    {
      "cell_type": "code",
      "metadata": {
        "id": "dVg8uWKNbFuZ"
      },
      "source": [
        "df.head()\n",
        "#df.head(10) to show 10 elements rows of the dataframe"
      ],
      "execution_count": null,
      "outputs": []
    },
    {
      "cell_type": "code",
      "metadata": {
        "id": "l97YS0jib30Q"
      },
      "source": [
        "df.tail()"
      ],
      "execution_count": null,
      "outputs": []
    },
    {
      "cell_type": "markdown",
      "metadata": {
        "id": "lBd1Juxrb-rl"
      },
      "source": [
        "###to get the information about the data use .info() method\n",
        "\n",
        "using this you can get the Columns name and get to know about it\n",
        "\n",
        "like its DataType, size, space, total entries."
      ]
    },
    {
      "cell_type": "code",
      "metadata": {
        "id": "-OERrs1bcG0d"
      },
      "source": [
        "df.info()"
      ],
      "execution_count": null,
      "outputs": []
    }
  ]
}